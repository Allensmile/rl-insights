{
  "nbformat": 4,
  "nbformat_minor": 0,
  "metadata": {
    "colab": {
      "name": "Title of the notebook",
      "provenance": [],
      "collapsed_sections": []
    },
    "kernelspec": {
      "name": "pycharm-45fb35c5",
      "language": "python",
      "display_name": "PyCharm (rl-insights)"
    }
  },
  "cells": [
    {
      "cell_type": "markdown",
      "metadata": {
        "id": "9DRun--fe4b5",
        "colab_type": "text",
        "pycharm": {}
      },
      "source": "# Title 1\n\n## Title 2\n\nOther Title 2\n---\n\nThis is some plain text.\n\n`code in markdown`\n\n```\nmultiline code in markdown\n```"
    },
    {
      "cell_type": "code",
      "metadata": {
        "id": "FPGt4WWCcEDV",
        "colab_type": "code",
        "colab": {
          "base_uri": "https://localhost:8080/",
          "height": 34
        },
        "outputId": "4347c8aa-f499-445f-b73c-4c154a9435c6",
        "pycharm": {}
      },
      "source": "# code comment\nprint(1+1)\nfor i in range(10):\n    pass",
      "execution_count": 1,
      "outputs": [
        {
          "output_type": "stream",
          "text": [
            "2\n"
          ],
          "name": "stdout"
        }
      ]
    },
    {
      "cell_type": "code",
      "execution_count": null,
      "outputs": [],
      "source": ":::python\n# this code specifies language with triple colons\nprint(1+1)\nfor i in range(10):\n    pass",
      "metadata": {
        "pycharm": {
          "metadata": false,
          "name": "#%%\n"
        }
      }
    }
  ]
}